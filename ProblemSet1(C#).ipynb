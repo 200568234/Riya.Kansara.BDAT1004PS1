{
 "cells": [
  {
   "cell_type": "markdown",
   "id": "0bf8c4d7",
   "metadata": {},
   "source": [
    "# PROBLEM SET 1 (Question 1 to 5)"
   ]
  },
  {
   "cell_type": "markdown",
   "id": "e58338e0",
   "metadata": {},
   "source": [
    "### Question 1\n",
    "#### What data type is each of the following (evaluate where necessary)?\n",
    "5\n",
    "\n",
    "5.0\n",
    "\n",
    "5 > 1\n",
    "\n",
    "'5'\n",
    "\n",
    "5 * 2\n",
    "\n",
    "'5' * 2\n",
    "\n",
    "'5' + '2'\n",
    "\n",
    "5 / 2\n",
    "\n",
    "5 % 2\n",
    "\n",
    "{5, 2, 1}\n",
    "\n",
    "5 == 3\n",
    "\n",
    "Pi (the number)\n"
   ]
  },
  {
   "cell_type": "code",
   "execution_count": 1,
   "id": "2dc68ba5",
   "metadata": {},
   "outputs": [
    {
     "data": {
      "text/html": [
       "\r\n",
       "<div>\r\n",
       "    <div id='dotnet-interactive-this-cell-11952.Microsoft.DotNet.Interactive.Http.HttpPort' style='display: none'>\r\n",
       "        The below script needs to be able to find the current output cell; this is an easy method to get it.\r\n",
       "    </div>\r\n",
       "    <script type='text/javascript'>\r\n",
       "async function probeAddresses(probingAddresses) {\r\n",
       "    function timeout(ms, promise) {\r\n",
       "        return new Promise(function (resolve, reject) {\r\n",
       "            setTimeout(function () {\r\n",
       "                reject(new Error('timeout'))\r\n",
       "            }, ms)\r\n",
       "            promise.then(resolve, reject)\r\n",
       "        })\r\n",
       "    }\r\n",
       "\r\n",
       "    if (Array.isArray(probingAddresses)) {\r\n",
       "        for (let i = 0; i < probingAddresses.length; i++) {\r\n",
       "\r\n",
       "            let rootUrl = probingAddresses[i];\r\n",
       "\r\n",
       "            if (!rootUrl.endsWith('/')) {\r\n",
       "                rootUrl = `${rootUrl}/`;\r\n",
       "            }\r\n",
       "\r\n",
       "            try {\r\n",
       "                let response = await timeout(1000, fetch(`${rootUrl}discovery`, {\r\n",
       "                    method: 'POST',\r\n",
       "                    cache: 'no-cache',\r\n",
       "                    mode: 'cors',\r\n",
       "                    timeout: 1000,\r\n",
       "                    headers: {\r\n",
       "                        'Content-Type': 'text/plain'\r\n",
       "                    },\r\n",
       "                    body: probingAddresses[i]\r\n",
       "                }));\r\n",
       "\r\n",
       "                if (response.status == 200) {\r\n",
       "                    return rootUrl;\r\n",
       "                }\r\n",
       "            }\r\n",
       "            catch (e) { }\r\n",
       "        }\r\n",
       "    }\r\n",
       "}\r\n",
       "\r\n",
       "function loadDotnetInteractiveApi() {\r\n",
       "    probeAddresses([\"http://10.0.0.10:2048/\", \"http://127.0.0.1:2048/\"])\r\n",
       "        .then((root) => {\r\n",
       "        // use probing to find host url and api resources\r\n",
       "        // load interactive helpers and language services\r\n",
       "        let dotnetInteractiveRequire = require.config({\r\n",
       "        context: '11952.Microsoft.DotNet.Interactive.Http.HttpPort',\r\n",
       "                paths:\r\n",
       "            {\r\n",
       "                'dotnet-interactive': `${root}resources`\r\n",
       "                }\r\n",
       "        }) || require;\r\n",
       "\r\n",
       "            window.dotnetInteractiveRequire = dotnetInteractiveRequire;\r\n",
       "\r\n",
       "            window.configureRequireFromExtension = function(extensionName, extensionCacheBuster) {\r\n",
       "                let paths = {};\r\n",
       "                paths[extensionName] = `${root}extensions/${extensionName}/resources/`;\r\n",
       "                \r\n",
       "                let internalRequire = require.config({\r\n",
       "                    context: extensionCacheBuster,\r\n",
       "                    paths: paths,\r\n",
       "                    urlArgs: `cacheBuster=${extensionCacheBuster}`\r\n",
       "                    }) || require;\r\n",
       "\r\n",
       "                return internalRequire\r\n",
       "            };\r\n",
       "        \r\n",
       "            dotnetInteractiveRequire([\r\n",
       "                    'dotnet-interactive/dotnet-interactive'\r\n",
       "                ],\r\n",
       "                function (dotnet) {\r\n",
       "                    dotnet.init(window);\r\n",
       "                },\r\n",
       "                function (error) {\r\n",
       "                    console.log(error);\r\n",
       "                }\r\n",
       "            );\r\n",
       "        })\r\n",
       "        .catch(error => {console.log(error);});\r\n",
       "    }\r\n",
       "\r\n",
       "// ensure `require` is available globally\r\n",
       "if ((typeof(require) !==  typeof(Function)) || (typeof(require.config) !== typeof(Function))) {\r\n",
       "    let require_script = document.createElement('script');\r\n",
       "    require_script.setAttribute('src', 'https://cdnjs.cloudflare.com/ajax/libs/require.js/2.3.6/require.min.js');\r\n",
       "    require_script.setAttribute('type', 'text/javascript');\r\n",
       "    \r\n",
       "    \r\n",
       "    require_script.onload = function() {\r\n",
       "        loadDotnetInteractiveApi();\r\n",
       "    };\r\n",
       "\r\n",
       "    document.getElementsByTagName('head')[0].appendChild(require_script);\r\n",
       "}\r\n",
       "else {\r\n",
       "    loadDotnetInteractiveApi();\r\n",
       "}\r\n",
       "\r\n",
       "    </script>\r\n",
       "</div>"
      ]
     },
     "metadata": {},
     "output_type": "display_data"
    },
    {
     "name": "stdout",
     "output_type": "stream",
     "text": [
      "5 is of type Int32\n",
      "5.0 is of type Double\n",
      "5 > 1 is of type Boolean\n",
      "'5' is of type String\n",
      "5 * 2 is of type Int32\n",
      "'5' + '2' is of type String\n",
      "5 / 2 is of type Double\n",
      "5 % 2 is of type Int32\n",
      "{5, 2, 1} is of type Int32[]\n",
      "5 == 3 is of type Boolean\n",
      "Pi is of type Double\n"
     ]
    }
   ],
   "source": [
    "Console.WriteLine(\"5 is of type \" + 5.GetType().Name);                \n",
    "Console.WriteLine(\"5.0 is of type \" + (5.0).GetType().Name);          \n",
    "Console.WriteLine(\"5 > 1 is of type \" + (5 > 1).GetType().Name);     \n",
    "Console.WriteLine(\"'5' is of type \" + \"5\".GetType().Name);            \n",
    "Console.WriteLine(\"5 * 2 is of type \" + (5 * 2).GetType().Name);      \n",
    "// '5' * 2 is invalid in C#\n",
    "Console.WriteLine(\"'5' + '2' is of type \" + (\"5\" + \"2\").GetType().Name); \n",
    "Console.WriteLine(\"5 / 2 is of type \" + (5 / 2.0).GetType().Name);    \n",
    "Console.WriteLine(\"5 % 2 is of type \" + (5 % 2).GetType().Name);      \n",
    "Console.WriteLine(\"{5, 2, 1} is of type \" + new int[] {5, 2, 1}.GetType().Name); \n",
    "Console.WriteLine(\"5 == 3 is of type \" + (5 == 3).GetType().Name);    \n",
    "Console.WriteLine(\"Pi is of type \" + Math.PI.GetType().Name);         \n"
   ]
  },
  {
   "cell_type": "markdown",
   "id": "f9c23103",
   "metadata": {},
   "source": [
    "### Question 2\n",
    "#### Write (and evaluate) python expressions that answer these questions:\n",
    "#### a. How many letters are there in 'Supercalifragilisticexpialidocious'?\n"
   ]
  },
  {
   "cell_type": "code",
   "execution_count": 2,
   "id": "1824b07e",
   "metadata": {},
   "outputs": [
    {
     "name": "stdout",
     "output_type": "stream",
     "text": [
      "Number of letters in 'Supercalifragilisticexpialidocious' is 34\r\n"
     ]
    }
   ],
   "source": [
    "string w= \"Supercalifragilisticexpialidocious\";\n",
    "int nol = w.Length;\n",
    "Console.WriteLine(\"Number of letters in 'Supercalifragilisticexpialidocious' is \" + nol);\n"
   ]
  },
  {
   "cell_type": "markdown",
   "id": "d3e06021",
   "metadata": {},
   "source": [
    "#### b. Does 'Supercalifragilisticexpialidocious' contain 'ice' as a substring?\n"
   ]
  },
  {
   "cell_type": "code",
   "execution_count": 3,
   "id": "7d9be27f",
   "metadata": {},
   "outputs": [
    {
     "name": "stdout",
     "output_type": "stream",
     "text": [
      "Does 'Supercalifragilisticexpialidocious' contain 'ice'? True\r\n"
     ]
    }
   ],
   "source": [
    "using System;\n",
    "\n",
    "string w = \"Supercalifragilisticexpialidocious\";\n",
    "bool ci = w.Contains(\"ice\");\n",
    "Console.WriteLine(\"Does 'Supercalifragilisticexpialidocious' contain 'ice'? \" + ci);\n"
   ]
  },
  {
   "cell_type": "code",
   "execution_count": null,
   "id": "6066ec9a",
   "metadata": {},
   "outputs": [],
   "source": []
  },
  {
   "cell_type": "markdown",
   "id": "ccd0c76e",
   "metadata": {},
   "source": [
    "#### c. Which of the following words is the longest: Supercalifragilisticexpialidocious, Honorificabilitudinitatibus, or Bababadalgharaghtakamminarronnkonn?\n"
   ]
  },
  {
   "cell_type": "code",
   "execution_count": 4,
   "id": "16c5c0a3",
   "metadata": {},
   "outputs": [
    {
     "name": "stdout",
     "output_type": "stream",
     "text": [
      "The longest word is: Bababadalgharaghtakamminarronnkonn\r\n"
     ]
    }
   ],
   "source": [
    "string w1 = \"Supercalifragilisticexpialidocious\";\n",
    "string w2 = \"Honorificabilitudinitatibus\";\n",
    "string w3 = \"Bababadalgharaghtakamminarronnkonn\";\n",
    "\n",
    "string lw = w1.Length > w2.Length\n",
    "    ? (w1.Length > w3.Length ? w1 : w3)\n",
    "    : (w2.Length > w3.Length ? w2 : w3);\n",
    "\n",
    "Console.WriteLine(\"The longest word is: \" + lw);\n"
   ]
  },
  {
   "cell_type": "markdown",
   "id": "1f2fbae4",
   "metadata": {},
   "source": [
    "#### d. Which composer comes first in the dictionary: 'Berlioz', 'Borodin', 'Brian', 'Bartok', 'Bellini', 'Buxtehude', 'Bernstein'. Which one comes last?"
   ]
  },
  {
   "cell_type": "code",
   "execution_count": 5,
   "id": "52e8d897",
   "metadata": {},
   "outputs": [
    {
     "name": "stdout",
     "output_type": "stream",
     "text": [
      "First composer in the dictionary: Bartok\n",
      "Last composer in the dictionary: Buxtehude\n"
     ]
    }
   ],
   "source": [
    "string[] composers = { \"Berlioz\", \"Borodin\", \"Brian\", \"Bartok\", \"Bellini\", \"Buxtehude\", \"Bernstein\" };\n",
    "\n",
    "// Sort the array and get the first and last composers\n",
    "Array.Sort(composers);\n",
    "Console.WriteLine(\"First composer in the dictionary: \" + composers[0]);\n",
    "Console.WriteLine(\"Last composer in the dictionary: \" + composers[^1]); // Using index from end operator\n"
   ]
  },
  {
   "cell_type": "markdown",
   "id": "34e1a053",
   "metadata": {},
   "source": [
    "### Question 3\n",
    "#### Implement function triangleArea(a,b,c) that takes as input the lengths of the 3 sides of a triangle and returns the area of the triangle. By Heron's formula, the area of a triangle with side lengths a, b, and c iss(s - a)(s - b)(s - c) , wheres = (a + b + c)/2.\n",
    "#### >>> triangleArea(2,2,2)\n",
    "#### 1.7320508075688772\n"
   ]
  },
  {
   "cell_type": "code",
   "execution_count": 6,
   "id": "52af135e",
   "metadata": {},
   "outputs": [
    {
     "name": "stdout",
     "output_type": "stream",
     "text": [
      "1.7320508075688772\r\n"
     ]
    }
   ],
   "source": [
    "double triangleArea(double a, double b, double c)\n",
    "{\n",
    "    // Calculate semi-perimeter\n",
    "    double s = (a + b + c) / 2;\n",
    "\n",
    "    // Calculate area using Heron's formula\n",
    "    double area = Math.Sqrt(s * (s - a) * (s - b) * (s - c));\n",
    "    return area;\n",
    "}\n",
    "\n",
    "double area = triangleArea(2, 2, 2);\n",
    "Console.WriteLine(area);\n"
   ]
  },
  {
   "cell_type": "markdown",
   "id": "87095b59",
   "metadata": {},
   "source": [
    "### Question 4\n",
    "#### Write a program in python to separate odd and even integers in separate arrays. Go to the editor\n",
    "#### Test Data :\n",
    "Input the number of elements to be stored in the array :5\n",
    "\n",
    "Input 5 elements in the array :\n",
    "\n",
    "element - 0 : 25\n",
    "\n",
    "element - 1 : 47\n",
    "\n",
    "element - 2 : 42\n",
    "\n",
    "element - 3 : 56\n",
    "\n",
    "element - 4 : 32\n",
    "\n",
    "Expected Output:\n",
    "The Even elements are:\n",
    "42 56 32\n",
    "The Odd elements are :\n",
    "25 47"
   ]
  },
  {
   "cell_type": "code",
   "execution_count": 7,
   "id": "f4c6f3c8",
   "metadata": {},
   "outputs": [
    {
     "name": "stdout",
     "output_type": "stream",
     "text": [
      "Odd numbers are: 25, 47\n",
      "Even numbers are: 42, 56, 32\n"
     ]
    }
   ],
   "source": [
    "int[] array = new int[] { 25, 47, 42, 56, 32 };\n",
    "\n",
    "int[] oddArray = array.Where(x => x % 2 != 0).ToArray();\n",
    "int[] evenArray = array.Where(x => x % 2 == 0).ToArray();\n",
    "\n",
    "Console.WriteLine(\"Odd numbers are: \" + string.Join(\", \", oddArray));\n",
    "Console.WriteLine(\"Even numbers are: \" + string.Join(\", \", evenArray));\n"
   ]
  },
  {
   "cell_type": "markdown",
   "id": "58a3ee59",
   "metadata": {},
   "source": [
    "### Question 5\n",
    "####  a. Write a function inside(x,y,x1,y1,x2,y2) that returns True or False depending on whether the point (x,y) lies in the rectangle with lower left corner (x1,y1) and upper right corner (x2,y2).\n",
    "#### >>> inside(1,1,0,0,2,3) True\n",
    "#### >>> inside(-1,-1,0,0,2,3) False"
   ]
  },
  {
   "cell_type": "code",
   "execution_count": 8,
   "id": "d0fe6d12",
   "metadata": {},
   "outputs": [
    {
     "name": "stdout",
     "output_type": "stream",
     "text": [
      "True\n",
      "False\n"
     ]
    }
   ],
   "source": [
    "bool inside(int x, int y, int x1, int y1, int x2, int y2)\n",
    "{\n",
    "    return (x >= x1 && x <= x2 && y >= y1 && y <= y2);\n",
    "}\n",
    "\n",
    "Console.WriteLine(inside(1, 1, 0, 0, 2, 3)); // True\n",
    "Console.WriteLine(inside(-1, -1, 0, 0, 2, 3)); // False\n"
   ]
  },
  {
   "cell_type": "markdown",
   "id": "5ae507c2",
   "metadata": {},
   "source": [
    "#### b. Use function inside() from part a. to write an expression that tests whether the point (1,1) lies in both of the following rectangles: one with lower left corner (0.3, 0.5) and upper right corner (1.1, 0.7) and the other with lower left corner (0.5, 0.2) and upper right corner (1.1, 2).\n"
   ]
  },
  {
   "cell_type": "code",
   "execution_count": 9,
   "id": "a1ff0c88",
   "metadata": {},
   "outputs": [
    {
     "name": "stdout",
     "output_type": "stream",
     "text": [
      "False\r\n"
     ]
    }
   ],
   "source": [
    "bool Inside(double x, double y, double x1, double y1, double x2, double y2) \n",
    "    => x1 <= x && x <= x2 && y1 <= y && y <= y2;\n",
    "\n",
    "bool rect1 = Inside(1, 1, 0.3, 0.5, 1.1, 0.7);\n",
    "bool rect2 = Inside(1, 1, 0.5, 0.2, 1.1, 2);\n",
    "bool result = rect1 && rect2;\n",
    "\n",
    "Console.WriteLine(result);\n"
   ]
  }
 ],
 "metadata": {
  "kernelspec": {
   "display_name": ".NET (C#)",
   "language": "C#",
   "name": ".net-csharp"
  },
  "language_info": {
   "file_extension": ".cs",
   "mimetype": "text/x-csharp",
   "name": "C#",
   "pygments_lexer": "csharp",
   "version": "12.0"
  }
 },
 "nbformat": 4,
 "nbformat_minor": 5
}
