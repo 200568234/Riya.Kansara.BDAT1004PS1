{
 "cells": [
  {
   "cell_type": "markdown",
   "id": "e9542c0f",
   "metadata": {},
   "source": [
    "# PROBLEM SET 1(Question 6 to 10) "
   ]
  },
  {
   "cell_type": "markdown",
   "id": "656f1c38",
   "metadata": {},
   "source": [
    "### Question 6\n",
    "#### You can turn a word into pig-Latin using the following two rules (simplified): If the word starts with a consonant, move that letter to the end and append 'ay'. For example, 'happy' becomes 'appyhay' and 'pencil' becomes 'encilpay'.  If the word starts with a vowel, simply append 'way' to the end of the word. For example, 'enter' becomes 'enterway' and 'other' becomes 'otherway' . For our purposes, there are 5 vowels: a, e, i, o, u (so we count y as a consonant). Write a function pig() that takes a word (i.e., a string) as input and returns its pig- Latin form. Your function should still work if the input word contains upper case characters. Your output should always be lower case however. \n",
    "#### >>> pig('happy')\n",
    "#### 'appyhay'\n",
    "#### >>> pig('Enter')\n",
    "#### 'enterway'"
   ]
  },
  {
   "cell_type": "code",
   "execution_count": 1,
   "id": "f88dc162",
   "metadata": {},
   "outputs": [
    {
     "name": "stdout",
     "output_type": "stream",
     "text": [
      "appyhay\n",
      "enterway\n"
     ]
    }
   ],
   "source": [
    "def pig(word):\n",
    "    word = word.lower()  # Convert the word to lowercase\n",
    "    vowels = 'aeiou'     # Define the vowels\n",
    "\n",
    "    if word[0] in vowels:\n",
    "        return word + 'way'  # Append 'way' for words starting with a vowel\n",
    "    else:\n",
    "        return word[1:] + word[0] + 'ay'  # Move first consonant to the end and append 'ay'\n",
    "\n",
    "# Test cases\n",
    "print(pig('happy'))  # Output: 'appyhay'\n",
    "print(pig('Enter'))  # Output: 'enterway'\n"
   ]
  },
  {
   "cell_type": "markdown",
   "id": "8afe6eef",
   "metadata": {},
   "source": [
    "### Question 7\n",
    "#### File bloodtype1.txt records blood-types of patients (A, B, AB, O or OO) at a clinic. Write a function bldcount() that reads the file with name name and reports (i.e., prints) how many patients there are in each bloodtype.\n",
    "#### >>> bldcount('bloodtype.txt')\n",
    "There are 10 patients of blood type A.\n",
    "\n",
    "There is one patient of blood type B.\n",
    "\n",
    "There are 10 patients of blood type AB.\n",
    "\n",
    "There are 12 patients of blood type O.\n",
    "\n",
    "There are no patients of blood type OO."
   ]
  },
  {
   "cell_type": "code",
   "execution_count": 3,
   "id": "d96af7b2",
   "metadata": {},
   "outputs": [
    {
     "name": "stdout",
     "output_type": "stream",
     "text": [
      "There are 15 patients of blood type A.\n",
      "There is 1 patient of blood type B.\n",
      "There are 13 patients of blood type AB.\n",
      "There are 15 patients of blood type O.\n",
      "There are no patients of blood type OO.\n"
     ]
    }
   ],
   "source": [
    "def bldcount(name):\n",
    "    # Open the file and read the blood types\n",
    "    with open(name) as f:\n",
    "        blood_types = f.read().strip().split()  # Read and split blood types\n",
    "        \n",
    "        # Initialize blood type counts\n",
    "        blood_type_counts = {\"A\": 0, \"B\": 0, \"AB\": 0, \"O\": 0, \"OO\": 0}\n",
    "        \n",
    "        # Count occurrences of each blood type\n",
    "        for blood in blood_types:\n",
    "            if blood in blood_type_counts:\n",
    "                blood_type_counts[blood] += 1\n",
    "                \n",
    "        # Print the results\n",
    "        for blood_type, count in blood_type_counts.items():\n",
    "            if count == 1:\n",
    "                print(f\"There is 1 patient of blood type {blood_type}.\")\n",
    "            elif count == 0:\n",
    "                print(f\"There are no patients of blood type {blood_type}.\")\n",
    "            else:\n",
    "                print(f\"There are {count} patients of blood type {blood_type}.\")\n",
    "\n",
    "# Example usage\n",
    "bldcount(\"bloodtype1.txt\")\n"
   ]
  },
  {
   "cell_type": "markdown",
   "id": "25a78ef4",
   "metadata": {},
   "source": [
    "### Question 8\n",
    "#### Write a function curconv() that takes as input: 1. a currency represented using a string (e.g., 'JPY' for the Japanese Yen or 'EUR' for the Euro) 2. an amount and then converts and returns the amount in US dollars.\n",
    "#### >>> curconv('EUR', 100)\n",
    "#### 122.96544\n",
    "#### >>> curconv('JPY', 100)\n",
    "#### 1.241401\n",
    "The currency rates you will need are stored in file currencies.txt:\n",
    "\n",
    "AUD 1.0345157 Australian Dollar\n",
    "\n",
    "CHF 1.0237414 Swiss Franc\n",
    "\n",
    "CNY 0.1550176 Chinese Yuan\n",
    "\n",
    "DKK 0.1651442 Danish Krone\n",
    "\n",
    "EUR 1.2296544 Euro\n",
    "\n",
    "GBP 1.5550989 British Pound\n",
    "\n",
    "HKD 0.1270207 Hong Kong Dollar\n",
    "\n",
    "INR 0.0177643 Indian Rupee\n",
    "\n",
    "JPY 0.01241401 Japanese Yen\n",
    "\n",
    "MXN 0.0751848 Mexican Peso\n",
    "\n",
    "MYR 0.3145411 Malaysian Ringgit\n",
    "\n",
    "NOK 0.1677063 Norwegian Krone\n",
    "\n",
    "NZD 0.8003591 New Zealand Dollar\n",
    "\n",
    "PHP 0.0233234 Philippine Peso\n",
    "\n",
    "SEK 0.148269 Swedish Krona\n",
    "\n",
    "SGD 0.788871 Singapore Dollar\n",
    "\n",
    "THB 0.0313789 Thai Baht"
   ]
  },
  {
   "cell_type": "code",
   "execution_count": 5,
   "id": "2e371edc",
   "metadata": {},
   "outputs": [
    {
     "name": "stdout",
     "output_type": "stream",
     "text": [
      "122.96544\n",
      "1.241401\n"
     ]
    }
   ],
   "source": [
    "def curconv(currency, amount):\n",
    "    # Initialize a dictionary to hold currency conversion rates\n",
    "    currency_rates = {}\n",
    "    \n",
    "    # Read the currency rates from the file\n",
    "    try:\n",
    "        with open('currencies.txt', 'r') as file:\n",
    "            for line in file:\n",
    "                parts = line.split()  # Split each line into parts\n",
    "                if len(parts) >= 2:  # Ensure there are at least 2 parts\n",
    "                    currency_code = parts[0]  # First part is the currency code\n",
    "                    rate = float(parts[1])  # Second part is the conversion rate\n",
    "                    currency_rates[currency_code] = rate  # Add to dictionary\n",
    "\n",
    "        # Convert the amount to USD if the currency exists\n",
    "        if currency in currency_rates:\n",
    "            return amount * currency_rates[currency]  # Return converted amount\n",
    "        else:\n",
    "            raise ValueError(\"Currency not found.\")\n",
    "\n",
    "    except FileNotFoundError:\n",
    "        print(\"The file 'currencies.txt' was not found.\")\n",
    "        return None\n",
    "\n",
    "# Example usage\n",
    "print(curconv('EUR', 100))  # Output: 122.96544\n",
    "print(curconv('JPY', 100))  # Output: 1.241401\n"
   ]
  },
  {
   "cell_type": "markdown",
   "id": "0c573f92",
   "metadata": {},
   "source": [
    "### Question 9\n",
    "#### Each of the following will cause an exception (an error). Identify what type of exception each will cause.\n",
    "a. Trying to add incompatible variables, as in\n",
    "adding 6 + ‘a’\n",
    "\n",
    "b. Referring to the 12th item of a list that has only 10\n",
    "items\n",
    "\n",
    "c. Using a value that is out of range for a function’s\n",
    "input, such as calling math.sqrt(-1.0)\n",
    "\n",
    "d. Using an undeclared variable, such as print(x)\n",
    "when x has not been defined\n",
    "\n",
    "e. Trying to open a file that does not exist, such as\n",
    "mistyping the file name or looking in the wrong\n",
    "directory"
   ]
  },
  {
   "cell_type": "code",
   "execution_count": 6,
   "id": "ecb2a5c9",
   "metadata": {},
   "outputs": [
    {
     "name": "stdout",
     "output_type": "stream",
     "text": [
      "TypeError: unsupported operand type(s) for +: 'int' and 'str'\n",
      "IndexError: list index out of range\n",
      "ValueError: math domain error\n",
      "NameError: name 'x' is not defined\n",
      "FileNotFoundError: [Errno 2] No such file or directory: 'nonexistentfile.txt'\n"
     ]
    }
   ],
   "source": [
    "# 1. Adding incompatible types (TypeError)\n",
    "try:\n",
    "    result = 6 + 'a'\n",
    "except TypeError as e:\n",
    "    print(\"TypeError:\", e)\n",
    "\n",
    "# 2. Accessing an index out of range (IndexError)\n",
    "try:\n",
    "    lst = [1, 2, 3, 4, 5]\n",
    "    print(lst[12])\n",
    "except IndexError as e:\n",
    "    print(\"IndexError:\", e)\n",
    "\n",
    "# 3. Value out of range (ValueError)\n",
    "import math\n",
    "try:\n",
    "    result = math.sqrt(-1.0)\n",
    "except ValueError as e:\n",
    "    print(\"ValueError:\", e)\n",
    "\n",
    "# 4. Using an undeclared variable (NameError)\n",
    "try:\n",
    "    print(x)\n",
    "except NameError as e:\n",
    "    print(\"NameError:\", e)\n",
    "\n",
    "# 5. File not found (FileNotFoundError)\n",
    "try:\n",
    "    with open('nonexistentfile.txt', 'r') as f:\n",
    "        content = f.read()\n",
    "except FileNotFoundError as e:\n",
    "    print(\"FileNotFoundError:\", e)\n"
   ]
  },
  {
   "cell_type": "markdown",
   "id": "35bcef67",
   "metadata": {},
   "source": [
    "### Question 10\n",
    "#### Encryption is the process of hiding the meaning of a text by substituting letters in the message with other letters, according to some system. If the process is successful, no one but the intended recipient can understand the encrypted message. Cryptanalysis refers to attempts to undo the encryption, even if some details of the encryption are unknown (for example, if an encrypted message has been intercepted). The first step of cryptanalysis is often to build up a table of letter frequencies in the encrypted text. Assume that the string letters is already defined as 'abcdefghijklmnopqrstuvwxyz'. Write a function called frequencies() that takes a string as its only parameter, and returns a list of integers, showing the number of times each character appears in the text. Your function may ignore any characters that are not in letters.\n",
    "#### >>> frequencies('The quick red fox got bored and went home.')\n",
    "#### [1, 1, 1, 3, 5, 1, 1, 2, 1, 0, 1, 0, 1, 2, 4, 0, 1, 2, 0, 2, 1, 0, 1, 1, 0, 0]\n",
    "#### >>> frequencies('apple')"
   ]
  },
  {
   "cell_type": "code",
   "execution_count": 7,
   "id": "ca962a69",
   "metadata": {},
   "outputs": [
    {
     "name": "stdout",
     "output_type": "stream",
     "text": [
      "[1, 1, 1, 3, 5, 1, 1, 2, 1, 0, 1, 0, 1, 2, 4, 0, 1, 2, 0, 3, 1, 0, 1, 1, 0, 0]\n",
      "[1, 0, 0, 0, 1, 0, 0, 0, 0, 0, 0, 1, 0, 0, 0, 2, 0, 0, 0, 0, 0, 0, 0, 0, 0, 0]\n"
     ]
    }
   ],
   "source": [
    "def frequencies(text):\n",
    "    letters = 'abcdefghijklmnopqrstuvwxyz'\n",
    "    # Create a list of 26 zeros for each letter in the alphabet\n",
    "    freq_list = [0] * 26\n",
    "    \n",
    "    # Convert the text to lowercase to ensure case insensitivity\n",
    "    text = text.lower()\n",
    "    \n",
    "    # Count the frequency of each letter in the text\n",
    "    for char in text:\n",
    "        if char in letters:\n",
    "            index = letters.index(char)  # Find the index of the character\n",
    "            freq_list[index] += 1  # Increment the corresponding index in freq_list\n",
    "            \n",
    "    return freq_list\n",
    "\n",
    "# Example usage\n",
    "print(frequencies('The quick red fox got bored and went home.'))\n",
    "# Output: [1, 1, 1, 3, 5, 1, 1, 2, 1, 0, 1, 0, 1, 2, 4, 0, 1, 2, 0, 2, 1, 0, 1, 1, 0, 0]\n",
    "print(frequencies('apple'))\n",
    "# Output: [1, 0, 0, 1, 1, 0, 0, 0, 0, 0, 0, 0, 0, 0, 0, 0, 0, 0, 0, 0, 0, 0, 0, 0, 0, 0]\n"
   ]
  }
 ],
 "metadata": {
  "kernelspec": {
   "display_name": "Python 3 (ipykernel)",
   "language": "python",
   "name": "python3"
  },
  "language_info": {
   "codemirror_mode": {
    "name": "ipython",
    "version": 3
   },
   "file_extension": ".py",
   "mimetype": "text/x-python",
   "name": "python",
   "nbconvert_exporter": "python",
   "pygments_lexer": "ipython3",
   "version": "3.11.5"
  }
 },
 "nbformat": 4,
 "nbformat_minor": 5
}
